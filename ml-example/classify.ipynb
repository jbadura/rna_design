{
 "cells": [
  {
   "cell_type": "code",
   "execution_count": 4,
   "metadata": {},
   "outputs": [
    {
     "name": "stdout",
     "output_type": "stream",
     "text": [
      "False    1206989\n",
      "True        1678\n",
      "Name: decision, dtype: int64\n"
     ]
    }
   ],
   "source": [
    "import pandas as pd\n",
    "\n",
    "df = pd.read_csv(\"ml-dataset.csv\")\n",
    "X = df.drop(\"decision\", axis=1)\n",
    "y = df[\"decision\"]\n",
    "print(y.value_counts())"
   ]
  },
  {
   "cell_type": "code",
   "execution_count": 5,
   "metadata": {},
   "outputs": [
    {
     "name": "stdout",
     "output_type": "stream",
     "text": [
      "KNN: 0.5125296929275779 0.9318616068093419 0.9368910111905517 0.9664213546402962 0.5047145305946441 0.7704836392324823\n",
      "DT: 0.9708040544843635 0.9688411389189593 0.9673134821672533 0.9677215849520264 0.9663266284558689 0.9682013777956943\n",
      "NB: 0.9574449397308287 0.9688411389189593 0.9673134821672533 0.9677215849520264 0.9663266284558689 0.9655295548449873\n"
     ]
    }
   ],
   "source": [
    "from sklearn.model_selection import StratifiedKFold\n",
    "from sklearn.neighbors import KNeighborsClassifier\n",
    "from sklearn.tree import DecisionTreeClassifier\n",
    "from sklearn.naive_bayes import GaussianNB\n",
    "from sklearn.metrics import f1_score\n",
    "\n",
    "skf = StratifiedKFold(n_splits=5, shuffle=True, random_state=42)\n",
    "\n",
    "knn, dt, nb = [], [], []\n",
    "\n",
    "for train_index, test_index in skf.split(X, y):\n",
    "    X_train, X_test = X.iloc[train_index], X.iloc[test_index]\n",
    "    y_train, y_test = y.iloc[train_index], y.iloc[test_index]\n",
    "\n",
    "    clf = KNeighborsClassifier(n_neighbors=3)\n",
    "    clf = clf.fit(X_train, y_train)\n",
    "    y_pred = clf.predict(X_test)\n",
    "    knn.append(f1_score(y_test, y_pred, average=\"macro\"))\n",
    "\n",
    "    clf = DecisionTreeClassifier()\n",
    "    clf = clf.fit(X_train, y_train)\n",
    "    y_pred = clf.predict(X_test)\n",
    "    dt.append(f1_score(y_test, y_pred, average=\"macro\"))\n",
    "\n",
    "    clf = GaussianNB()\n",
    "    clf = clf.fit(X_train, y_train)\n",
    "    y_pred = clf.predict(X_test)\n",
    "    nb.append(f1_score(y_test, y_pred, average=\"macro\"))\n",
    "\n",
    "print(\"KNN:\", \" \".join(map(str, knn)), sum(knn) / len(knn))\n",
    "print(\"DT:\", \" \".join(map(str, dt)), sum(dt) / len(dt))\n",
    "print(\"NB:\", \" \".join(map(str, nb)), sum(nb) / len(nb))"
   ]
  }
 ],
 "metadata": {
  "kernelspec": {
   "display_name": "Python 3",
   "language": "python",
   "name": "python3"
  },
  "language_info": {
   "codemirror_mode": {
    "name": "ipython",
    "version": 3
   },
   "file_extension": ".py",
   "mimetype": "text/x-python",
   "name": "python",
   "nbconvert_exporter": "python",
   "pygments_lexer": "ipython3",
   "version": "3.12.4"
  }
 },
 "nbformat": 4,
 "nbformat_minor": 2
}
